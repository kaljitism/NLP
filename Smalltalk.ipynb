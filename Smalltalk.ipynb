{
 "cells": [
  {
   "cell_type": "code",
   "execution_count": 1,
   "metadata": {},
   "outputs": [],
   "source": [
    "responses = {\n",
    "    \"Hi\": \"Hello\",\n",
    "    \"Whats your name?\": \"My name is Alice!\",\n",
    "    \"How are you?\": \"I am good\",\n",
    "    \"Bye\": \"See yaa!\"\n",
    "}"
   ]
  },
  {
   "cell_type": "code",
   "execution_count": 2,
   "metadata": {},
   "outputs": [],
   "source": [
    "def smalltalk():\n",
    "    user = input(\"USER: \")\n",
    "    if user in responses:\n",
    "        print(\"BOT: {}\\n\".format(responses[user]))\n",
    "        return smalltalk()\n",
    "    else:\n",
    "        print(\"BOT: Sorry, I am not that much developed to reply!\\n\") \n",
    "        return smalltalk()"
   ]
  },
  {
   "cell_type": "code",
   "execution_count": null,
   "metadata": {},
   "outputs": [
    {
     "name": "stdout",
     "output_type": "stream",
     "text": [
      "USER: Hi\n",
      "BOT: Hello\n",
      "\n",
      "USER: HEy\n",
      "BOT: Sorry, I am not that much developed to reply!\n",
      "\n"
     ]
    }
   ],
   "source": [
    "smalltalk()"
   ]
  },
  {
   "cell_type": "code",
   "execution_count": null,
   "metadata": {},
   "outputs": [],
   "source": []
  }
 ],
 "metadata": {
  "kernelspec": {
   "display_name": "Python 3",
   "language": "python",
   "name": "python3"
  },
  "language_info": {
   "codemirror_mode": {
    "name": "ipython",
    "version": 3
   },
   "file_extension": ".py",
   "mimetype": "text/x-python",
   "name": "python",
   "nbconvert_exporter": "python",
   "pygments_lexer": "ipython3",
   "version": "3.7.3"
  }
 },
 "nbformat": 4,
 "nbformat_minor": 2
}
